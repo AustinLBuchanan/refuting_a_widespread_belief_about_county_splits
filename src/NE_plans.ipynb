{
 "cells": [
  {
   "cell_type": "code",
   "execution_count": 1,
   "id": "c5c8b7e2",
   "metadata": {},
   "outputs": [],
   "source": [
    "# only adjust settings in this cell\n",
    "state = 'NE'\n",
    "root_name = 'Douglas'  # which county will root our first district \n",
    "k = 3                  # the state has this number of districts\n",
    "deviation = 1          # use: L=ideal_population-deviation, U=ideal_population-deviation\n",
    "obj_type = 'cut_edges' # compactness objectives: cut_edges, perimeter, or polsby_popper"
   ]
  },
  {
   "cell_type": "code",
   "execution_count": 2,
   "id": "9f89321f",
   "metadata": {},
   "outputs": [
    {
     "ename": "ImportError",
     "evalue": "cannot import name 'read_graph_from_json' from 'util' (C:\\Users\\sezazip\\util.py)",
     "output_type": "error",
     "traceback": [
      "\u001b[1;31m---------------------------------------------------------------------------\u001b[0m",
      "\u001b[1;31mImportError\u001b[0m                               Traceback (most recent call last)",
      "Cell \u001b[1;32mIn[2], line 4\u001b[0m\n\u001b[0;32m      1\u001b[0m filepath \u001b[38;5;241m=\u001b[39m \u001b[38;5;124m'\u001b[39m\u001b[38;5;124m..\u001b[39m\u001b[38;5;130;01m\\\\\u001b[39;00m\u001b[38;5;124mdat\u001b[39m\u001b[38;5;130;01m\\\\\u001b[39;00m\u001b[38;5;124m'\u001b[39m\n\u001b[0;32m      2\u001b[0m filename \u001b[38;5;241m=\u001b[39m state \u001b[38;5;241m+\u001b[39m \u001b[38;5;124m'\u001b[39m\u001b[38;5;124m_county.json\u001b[39m\u001b[38;5;124m'\u001b[39m\n\u001b[1;32m----> 4\u001b[0m \u001b[38;5;28;01mfrom\u001b[39;00m \u001b[38;5;21;01mutil\u001b[39;00m \u001b[38;5;28;01mimport\u001b[39;00m read_graph_from_json\n\u001b[0;32m      5\u001b[0m G \u001b[38;5;241m=\u001b[39m read_graph_from_json( filepath \u001b[38;5;241m+\u001b[39m filename)\n",
      "\u001b[1;31mImportError\u001b[0m: cannot import name 'read_graph_from_json' from 'util' (C:\\Users\\sezazip\\util.py)"
     ]
    }
   ],
   "source": [
    "filepath = '..\\\\dat\\\\'\n",
    "filename = state + '_county.json'\n",
    "\n",
    "from util import read_graph_from_json\n",
    "G = read_graph_from_json( filepath + filename) "
   ]
  },
  {
   "cell_type": "code",
   "execution_count": null,
   "id": "d6bcf708",
   "metadata": {},
   "outputs": [],
   "source": [
    "G._k = k\n",
    "print(\"State has total of k =\",G._k,\"districts\")"
   ]
  },
  {
   "cell_type": "code",
   "execution_count": null,
   "id": "f538774f",
   "metadata": {},
   "outputs": [],
   "source": [
    "ideal_population = sum( G.nodes[i]['TOTPOP'] for i in G.nodes ) / G._k\n",
    "\n",
    "# Calculate lower and upper population limits\n",
    "from math import ceil, floor\n",
    "G._L = ceil( ideal_population - deviation )\n",
    "G._U = floor( ideal_population + deviation )\n",
    "\n",
    "print(\"Single district lower population limit L =\",G._L)\n",
    "print(\"Single district upper population limit U =\",G._U)"
   ]
  },
  {
   "cell_type": "code",
   "execution_count": null,
   "id": "9d38fd9f",
   "metadata": {},
   "outputs": [],
   "source": [
    "# Require this county be in our first district\n",
    "G._root = [ i for i in G.nodes if G.nodes[i]['NAME20'] == root_name ][0]\n",
    "print(\"Use\",root_name,\"County to be the root. In our graph, this is vertex #\",G._root)"
   ]
  },
  {
   "cell_type": "code",
   "execution_count": null,
   "id": "912bf9f3",
   "metadata": {},
   "outputs": [],
   "source": [
    "from optimization import districting_heuristic\n",
    "\n",
    "plans = districting_heuristic(G, obj_type='cut_edges', enumeration_limit=10)"
   ]
  },
  {
   "cell_type": "code",
   "execution_count": null,
   "id": "bc892581",
   "metadata": {},
   "outputs": [],
   "source": [
    "from util import plan_objective\n",
    "from draw import draw_plan\n",
    "filename = state + '_county.shp'\n",
    "\n",
    "print(\"# cut_edges perimeter ave_invpp\")\n",
    "for p in range(len(plans)):\n",
    "    plan = plans[p]\n",
    "    ce = round( plan_objective(G, plan, 'cut_edges') )\n",
    "    pe = round( plan_objective(G, plan, 'perimeter'), 4)\n",
    "    pp = round( plan_objective(G, plan, 'inverse_polsby_popper'), 4)\n",
    "    print(p, ce, pe, pp) #, plan)\n",
    "    draw_plan( filepath, filename, G, plan )"
   ]
  },
  {
   "cell_type": "code",
   "execution_count": null,
   "id": "1e7c30da",
   "metadata": {},
   "outputs": [],
   "source": [
    "print(\"plans =\",plans)"
   ]
  },
  {
   "cell_type": "code",
   "execution_count": null,
   "id": "87e4e44c",
   "metadata": {},
   "outputs": [],
   "source": []
  }
 ],
 "metadata": {
  "kernelspec": {
   "display_name": "Python 3 (ipykernel)",
   "language": "python",
   "name": "python3"
  },
  "language_info": {
   "codemirror_mode": {
    "name": "ipython",
    "version": 3
   },
   "file_extension": ".py",
   "mimetype": "text/x-python",
   "name": "python",
   "nbconvert_exporter": "python",
   "pygments_lexer": "ipython3",
   "version": "3.11.5"
  }
 },
 "nbformat": 4,
 "nbformat_minor": 5
}
