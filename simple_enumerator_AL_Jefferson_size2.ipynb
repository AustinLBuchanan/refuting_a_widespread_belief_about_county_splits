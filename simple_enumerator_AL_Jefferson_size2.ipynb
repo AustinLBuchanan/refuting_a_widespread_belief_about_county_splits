{
 "cells": [
  {
   "cell_type": "code",
   "execution_count": 1,
   "metadata": {},
   "outputs": [],
   "source": [
    "# only adjust settings in this cell\n",
    "state = 'AL'\n",
    "root_name = 'Jefferson'# which county will root our district (or county_cluster==multi-district)?\n",
    "k = 7                  # the state has this number of districts\n",
    "deviation = 1          # use: L=ideal_population-deviation, U=ideal_population-deviation\n",
    "size = 2               # size=1 for single district, size=2 for double district, ...\n",
    "time_limit = 48*3600   # time limit in seconds"
   ]
  },
  {
   "cell_type": "code",
   "execution_count": 2,
   "metadata": {},
   "outputs": [],
   "source": [
    "filepath = 'C:\\\\districting-data-2020\\\\'\n",
    "filename = state + '_county.json'\n",
    "\n",
    "from cluster import read_graph_from_json\n",
    "G = read_graph_from_json( filepath + filename) "
   ]
  },
  {
   "cell_type": "code",
   "execution_count": 3,
   "metadata": {},
   "outputs": [
    {
     "name": "stdout",
     "output_type": "stream",
     "text": [
      "State has total of k = 7 districts\n",
      "We seek a multi-district (county cluster) of size = 2\n"
     ]
    }
   ],
   "source": [
    "G._k = k\n",
    "G._size = size\n",
    "G._time_limit = time_limit\n",
    "\n",
    "print(\"State has total of k =\",G._k,\"districts\")\n",
    "print(\"We seek a multi-district (county cluster) of size =\",G._size)"
   ]
  },
  {
   "cell_type": "code",
   "execution_count": 4,
   "metadata": {},
   "outputs": [
    {
     "name": "stdout",
     "output_type": "stream",
     "text": [
      "Single district lower population limit L = 717754\n",
      "Single district upper population limit U = 717755\n"
     ]
    }
   ],
   "source": [
    "ideal_population = sum( G.nodes[i]['TOTPOP'] for i in G.nodes ) / G._k\n",
    "\n",
    "# Calculate lower and upper population limits\n",
    "from math import ceil, floor\n",
    "G._L = ceil( ideal_population - deviation )\n",
    "G._U = floor( ideal_population + deviation )\n",
    "\n",
    "print(\"Single district lower population limit L =\",G._L)\n",
    "print(\"Single district upper population limit U =\",G._U)"
   ]
  },
  {
   "cell_type": "code",
   "execution_count": 5,
   "metadata": {},
   "outputs": [
    {
     "name": "stdout",
     "output_type": "stream",
     "text": [
      "Use Jefferson County to be the root. In our graph, this is vertex # 22\n"
     ]
    }
   ],
   "source": [
    "# Require this county be in our district/county_cluster/multi_district\n",
    "G._root = G._root = [ i for i in G.nodes if G.nodes[i]['NAME20'] == root_name ][0]\n",
    "print(\"Use\",root_name,\"County to be the root. In our graph, this is vertex #\",G._root)"
   ]
  },
  {
   "cell_type": "code",
   "execution_count": null,
   "metadata": {},
   "outputs": [
    {
     "name": "stdout",
     "output_type": "stream",
     "text": [
      "Sol# Node# Time(s) district\n",
      "1 15608 0.12 [22, 45, 0, 64, 14, 26, 43, 36, 33, 56, 54, 39]\n",
      "2 37976 0.3 [22, 45, 0, 64, 14, 43, 54, 39, 33, 46, 51, 40]\n",
      "3 143594 1.22 [22, 45, 0, 64, 58, 50, 26, 43, 52, 54]\n",
      "4 146638 1.25 [22, 45, 0, 64, 58, 50, 2, 36, 17, 56, 54, 39]\n",
      "5 238484 2.14 [22, 45, 0, 64, 58, 26, 43, 36, 33, 46, 40, 13, 20, 53]\n",
      "6 281860 2.53 [22, 45, 0, 64, 58, 26, 32, 39, 33, 1, 9, 56]\n",
      "7 319564 2.9 [22, 45, 0, 64, 58, 2, 43, 17, 56, 65, 9, 46, 40, 53]\n",
      "8 403960 3.69 [22, 45, 0, 64, 58, 43, 52, 36, 33, 32, 17, 46, 54, 37]\n",
      "9 443019 4.04 [22, 45, 0, 64, 58, 43, 36, 33, 32, 65, 46, 40, 20, 54, 37]\n",
      "10 742840 7.06 [22, 45, 0, 64, 23, 52, 2, 43, 36, 33, 9, 17, 46, 39]\n",
      "11 746505 7.1 [22, 45, 0, 64, 23, 52, 2, 43, 17, 39, 33, 46, 40, 53, 37]\n",
      "12 895149 8.59 [22, 45, 0, 64, 23, 57, 2, 43, 17, 54, 32, 39, 33, 46, 40]\n",
      "13 899367 8.62 [22, 45, 0, 64, 23, 57, 2, 43, 39, 33, 46, 51, 40, 53, 37]\n",
      "14 914460 8.78 [22, 45, 0, 64, 23, 57, 2, 56, 33, 9, 51, 40, 53, 39]\n",
      "15 933764 8.97 [22, 45, 0, 64, 23, 57, 43, 17, 54, 32, 39, 33, 1, 53]\n",
      "16 995185 9.59 [22, 45, 0, 64, 23, 26, 2, 36, 17, 56, 65, 9, 51, 37, 39]\n",
      "17 1014669 9.79 [22, 45, 0, 64, 23, 26, 2, 54, 37, 33, 9, 46, 40, 20, 53]\n",
      "18 1086926 10.55 [22, 45, 0, 64, 23, 26, 37, 1, 33, 65, 56, 46, 51, 53]\n",
      "19 1322700 13.13 [22, 45, 0, 64, 23, 54, 8, 39, 56, 65, 9, 51, 11, 20]\n",
      "20 1416402 14.03 [22, 45, 0, 64, 50, 28, 43, 36, 33, 65, 56, 46, 40, 54]\n",
      "21 1523938 15.12 [22, 45, 0, 64, 50, 26, 43, 36, 33, 9, 51, 40, 13, 65]\n",
      "22 1531518 15.2 [22, 45, 0, 64, 50, 26, 43, 36, 33, 65, 46, 51, 20, 54, 32, 37]\n",
      "23 1570821 15.57 [22, 45, 0, 64, 50, 26, 36, 33, 9, 51, 65, 56, 20, 54, 32]\n",
      "24 1621429 16.06 [22, 45, 0, 64, 50, 26, 37, 33, 46, 40, 20, 53, 62]\n",
      "25 1781696 17.59 [22, 45, 0, 64, 50, 2, 54, 8, 39, 33, 46, 51, 40, 13]\n",
      "26 2011336 19.75 [22, 45, 0, 64, 50, 39, 33, 1, 62, 65, 53, 13]\n",
      "27 2032086 19.96 [22, 45, 0, 64, 28, 21, 26, 54, 32, 39, 33, 65]\n",
      "28 2047668 20.09 [22, 45, 0, 64, 28, 62, 1, 33, 9, 54, 32, 53]\n",
      "29 2098939 20.55 [22, 45, 0, 64, 28, 62, 2, 43, 17, 56, 54, 32, 53, 46, 37]\n",
      "30 2147088 21.0 [22, 45, 0, 64, 28, 62, 43, 36, 53, 13, 29, 39]\n",
      "31 2174813 21.26 [22, 45, 0, 64, 28, 62, 36, 54, 53, 13, 46, 51, 48]\n",
      "32 2193259 21.43 [22, 45, 0, 64, 28, 62, 53, 40, 51, 9, 33, 65, 20]\n",
      "33 2344898 23.12 [22, 45, 0, 64, 28, 1, 33, 9, 51, 40, 43, 17, 54, 32]\n",
      "34 2372682 23.43 [22, 45, 0, 64, 28, 1, 33, 9, 43, 52, 17, 46, 53, 13]\n",
      "35 2380651 23.51 [22, 45, 0, 64, 28, 1, 33, 9, 43, 65, 46, 40, 13, 20, 53]\n",
      "36 2582260 25.66 [22, 45, 0, 64, 28, 1, 2, 17, 46, 40, 13, 54, 8, 37]\n",
      "37 2766308 27.61 [22, 45, 0, 64, 28, 26, 2, 43, 56, 33, 65, 11, 46, 51, 40, 39]\n",
      "38 2870224 28.67 [22, 45, 0, 64, 28, 26, 43, 36, 33, 9, 17, 46, 40, 13, 20, 54]\n",
      "39 2915680 29.13 [22, 45, 0, 64, 28, 26, 43, 54, 39, 33, 56, 46, 40, 13, 55, 61]\n",
      "40 3059005 30.8 [22, 45, 0, 64, 28, 2, 43, 17, 56, 33, 65, 11, 46, 51, 20, 53, 13]\n",
      "41 3243608 33.09 [22, 45, 0, 64, 28, 2, 56, 65, 9, 46, 54, 53, 13, 55, 61, 63]\n",
      "42 3354114 34.21 [22, 45, 0, 64, 28, 43, 36, 33, 9, 51, 11, 54, 8, 32]\n",
      "43 3396122 34.74 [22, 45, 0, 64, 28, 43, 36, 33, 46, 40, 13, 20, 54, 8, 53, 39]\n",
      "44 3450056 35.32 [22, 45, 0, 64, 28, 43, 54, 8, 39, 33, 46, 51, 20, 30]\n",
      "45 3476420 35.6 [22, 45, 0, 64, 28, 43, 54, 39, 33, 9, 46, 40, 13, 55, 20, 53]\n",
      "46 3478273 35.62 [22, 45, 0, 64, 28, 43, 54, 39, 33, 46, 51, 40, 13, 55, 5]\n",
      "47 3494609 35.78 [22, 45, 0, 64, 28, 36, 33, 9, 51, 48, 40, 13, 46, 53, 39]\n",
      "48 3758252 38.52 [22, 45, 0, 64, 26, 2, 43, 52, 17, 56, 65, 9, 37, 1, 53, 13]\n",
      "49 3819693 39.14 [22, 45, 0, 64, 26, 2, 43, 36, 33, 1, 56, 53, 40, 51, 20, 37, 39]\n",
      "50 3821403 39.16 [22, 45, 0, 64, 26, 2, 43, 36, 33, 1, 54, 8, 63, 61, 39]\n",
      "51 4302481 44.41 [22, 45, 0, 64, 26, 2, 36, 17, 52, 57, 56, 65, 9, 46, 40, 53, 37]\n",
      "52 4306209 44.45 [22, 45, 0, 64, 26, 2, 36, 17, 52, 56, 65, 54, 32, 37, 1, 53, 13]\n",
      "53 4353596 44.92 [22, 45, 0, 64, 26, 2, 36, 54, 8, 37, 1, 46, 40, 13, 20, 53]\n",
      "54 4377453 45.14 [22, 45, 0, 64, 26, 2, 17, 52, 57, 56, 33, 65, 11, 46, 40, 20, 54]\n",
      "55 4542932 46.77 [22, 45, 0, 64, 26, 2, 17, 54, 39, 33, 46, 53, 13, 55, 7, 61]\n",
      "56 4596059 47.3 [22, 45, 0, 64, 26, 2, 56, 33, 9, 65, 46, 40, 13, 55, 54, 32, 53]\n",
      "57 4643232 47.78 [22, 45, 0, 64, 26, 2, 56, 65, 9, 51, 11, 20, 46, 53, 13, 55, 37, 39]\n",
      "58 4671877 48.07 [22, 45, 0, 64, 26, 2, 56, 54, 37, 1, 62, 46, 51, 20, 39]\n",
      "59 4696121 48.35 [22, 45, 0, 64, 26, 2, 54, 8, 63, 37, 1, 33, 46, 51, 53]\n",
      "60 4747890 48.85 [22, 45, 0, 64, 26, 2, 54, 37, 1, 46, 9, 40, 13, 55, 20, 53]\n",
      "61 5175493 53.14 [22, 45, 0, 64, 26, 43, 36, 33, 9, 11, 46, 54, 8, 63, 61, 37, 39]\n",
      "62 5261140 54.06 [22, 45, 0, 64, 26, 43, 36, 33, 56, 46, 54, 53, 13, 55, 7, 39]\n",
      "63 5264499 54.1 [22, 45, 0, 64, 26, 43, 36, 33, 46, 51, 40, 13, 55, 20, 54, 32, 4]\n",
      "64 5284522 54.29 [22, 45, 0, 64, 26, 43, 36, 17, 54, 32, 37, 1, 46, 51, 40, 13, 53, 39]\n",
      "65 5797159 59.56 [22, 45, 0, 64, 26, 36, 33, 65, 11, 56, 46, 51, 40, 13, 54, 8, 37]\n",
      "66 5888079 60.56 [22, 45, 0, 64, 26, 36, 33, 46, 54, 32, 24, 44, 4, 35, 53, 13, 39]\n",
      "67 5955399 61.19 [22, 45, 0, 64, 26, 54, 8, 44, 63, 61, 55, 39, 33, 46, 53]\n",
      "68 6017828 61.78 [22, 45, 0, 64, 26, 54, 8, 63, 61, 55, 13, 40, 53, 37, 33, 56]\n",
      "69 6213489 63.8 [22, 45, 0, 64, 26, 54, 37, 33, 9, 51, 40, 11, 13, 55, 65, 56, 46]\n",
      "70 6376962 65.36 [22, 45, 0, 64, 2, 43, 52, 19, 36, 33, 9, 17, 46, 40, 20, 53]\n",
      "71 6434450 65.94 [22, 45, 0, 64, 2, 43, 52, 57, 36, 33, 17, 65, 56, 46, 51, 20, 37, 39]\n",
      "72 7388128 76.67 [22, 45, 0, 64, 2, 36, 33, 9, 51, 40, 17, 52, 56, 20, 46, 54, 37, 39]\n",
      "73 7531159 78.27 [22, 45, 0, 64, 2, 36, 33, 17, 52, 65, 56, 46, 54, 8, 63, 37, 39]\n",
      "74 7991759 83.06 [22, 45, 0, 64, 2, 17, 52, 39, 33, 46, 51, 40, 20, 53, 62]\n",
      "75 8490159 88.47 [22, 45, 0, 64, 2, 54, 32, 39, 33, 1, 62, 46, 40, 20, 53]\n",
      "76 8616485 89.77 [22, 45, 0, 64, 43, 52, 19, 36, 33, 9, 17, 46, 40, 13, 20, 37, 39]\n"
     ]
    }
   ],
   "source": [
    "import simple_enumerator\n",
    "districts = simple_enumerator.simple_enumerator(G)"
   ]
  },
  {
   "cell_type": "code",
   "execution_count": null,
   "metadata": {},
   "outputs": [],
   "source": [
    "import math\n",
    "\n",
    "def objective(DG, district, obj_type):\n",
    "    district_bool = { i : False for i in DG.nodes }\n",
    "    for i in district:\n",
    "        district_bool[i] = True\n",
    "    if obj_type == 'cut_edges':\n",
    "        return sum( 1 for u in district for v in DG.neighbors(u) if not district_bool[v] )\n",
    "    elif obj_type == 'perimeter':\n",
    "        internal_perim = sum( DG.edges[u,v]['shared_perim'] for u in district for v in DG.neighbors(u) if not district_bool[v] )\n",
    "        external_perim = sum( DG.nodes[i]['boundary_perim'] for i in district if DG.nodes[i]['boundary_node'] ) \n",
    "        return internal_perim + external_perim\n",
    "    elif obj_type =='inverse_polsby_popper':\n",
    "        internal_perim = sum( DG.edges[u,v]['shared_perim'] for u in district for v in DG.neighbors(u) if not district_bool[v] )\n",
    "        external_perim = sum( DG.nodes[i]['boundary_perim'] for i in district if DG.nodes[i]['boundary_node'] ) \n",
    "        P = internal_perim + external_perim\n",
    "        A = sum( DG.nodes[i]['area'] for i in district )\n",
    "        return P * P / ( 4 * math.pi * A )\n",
    "    else:\n",
    "        assert False"
   ]
  },
  {
   "cell_type": "code",
   "execution_count": null,
   "metadata": {},
   "outputs": [],
   "source": [
    "# Draw the districting plans.\n",
    "filename = state + '_county.shp'\n",
    "from cluster import draw_single_district"
   ]
  },
  {
   "cell_type": "code",
   "execution_count": null,
   "metadata": {},
   "outputs": [],
   "source": [
    "obj_type = 'cut_edges'\n",
    "min_obj = min( objective(G, districts[p], obj_type) for p in range(len(districts)) )\n",
    "print(\"For objective type\",obj_type,\"here are the identified maps within 10% of the incumbent objective =\",min_obj)\n",
    "for p in range(len(districts)):\n",
    "    if objective(G, districts[p], obj_type) <= 1.10 * min_obj:\n",
    "        draw_single_district( filepath, filename, G, districts[p], zoom=False )"
   ]
  },
  {
   "cell_type": "code",
   "execution_count": null,
   "metadata": {},
   "outputs": [],
   "source": [
    "obj_type = 'perimeter'\n",
    "min_obj = min( objective(G, districts[p], obj_type) for p in range(len(districts)) )\n",
    "print(\"For objective type\",obj_type,\"here are the identified maps within 10% of the incumbent objective =\",min_obj)\n",
    "for p in range(len(districts)):\n",
    "    if objective(G, districts[p], obj_type) <= 1.10 * min_obj:\n",
    "        draw_single_district( filepath, filename, G, districts[p], zoom=False )"
   ]
  },
  {
   "cell_type": "code",
   "execution_count": null,
   "metadata": {},
   "outputs": [],
   "source": [
    "obj_type = 'inverse_polsby_popper'\n",
    "min_obj = min( objective(G, districts[p], obj_type) for p in range(len(districts)) )\n",
    "print(\"For objective type\",obj_type,\"here are the identified maps within 10% of the incumbent objective =\",min_obj)\n",
    "for p in range(len(districts)):\n",
    "    if objective(G, districts[p], obj_type) <= 1.10 * min_obj:\n",
    "        draw_single_district( filepath, filename, G, districts[p], zoom=False )"
   ]
  },
  {
   "cell_type": "code",
   "execution_count": null,
   "metadata": {},
   "outputs": [],
   "source": []
  },
  {
   "cell_type": "code",
   "execution_count": null,
   "metadata": {},
   "outputs": [],
   "source": []
  }
 ],
 "metadata": {
  "kernelspec": {
   "display_name": "Python 3",
   "language": "python",
   "name": "python3"
  },
  "language_info": {
   "codemirror_mode": {
    "name": "ipython",
    "version": 3
   },
   "file_extension": ".py",
   "mimetype": "text/x-python",
   "name": "python",
   "nbconvert_exporter": "python",
   "pygments_lexer": "ipython3",
   "version": "3.7.10"
  }
 },
 "nbformat": 4,
 "nbformat_minor": 5
}
